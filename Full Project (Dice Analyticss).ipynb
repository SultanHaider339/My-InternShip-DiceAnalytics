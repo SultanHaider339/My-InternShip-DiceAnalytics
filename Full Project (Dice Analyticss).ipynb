{
 "cells": [
  {
   "cell_type": "markdown",
   "id": "7a9e1586",
   "metadata": {},
   "source": [
    "# Importing Libraries"
   ]
  },
  {
   "cell_type": "code",
   "execution_count": null,
   "id": "f4893ee0",
   "metadata": {},
   "outputs": [],
   "source": [
    "from bs4 import BeautifulSoup\n",
    "import requests\n",
    "import re\n",
    "from selenium import webdriver\n",
    "from selenium.webdriver.chrome.options import Options\n",
    "import time\n",
    "import os\n",
    "import json"
   ]
  },
  {
   "cell_type": "markdown",
   "id": "66062ca5",
   "metadata": {},
   "source": [
    "pdfUrl=[]\n",
    "links=[]\n",
    "pdfLinks=[]\n",
    "def link(url):\n",
    "    google=requests.get(url)\n",
    "    soup=BeautifulSoup(google.text, \"html.parser\")\n",
    "    for a in soup.find_all('a', href=True):\n",
    "        links.append(a['href'])\n",
    "    for i in range(len(links)):\n",
    "        if '.pdf' in links[i]:\n",
    "            pdfUrl.append(links[i])\n",
    "    for j in range(len(pdfUrl)):\n",
    "        pdfLinks.append(re.search(\"(?P<url>https?://[^\\s]+\\.pdf)\", pdfUrl[j]).group(\"url\"))\n",
    "        "
   ]
  },
  {
   "cell_type": "markdown",
   "id": "4aa2c186",
   "metadata": {},
   "source": [
    "# Geting And Purifying Links From Google Search Result"
   ]
  },
  {
   "cell_type": "code",
   "execution_count": null,
   "id": "2becfce3",
   "metadata": {},
   "outputs": [],
   "source": [
    "aa=[]\n",
    "def link(url):\n",
    "    google=requests.get(url)\n",
    "    soup=BeautifulSoup(google.text, \"html.parser\")\n",
    "    for a in soup.find_all('a', href=True):\n",
    "        if '.pdf' in a['href']:\n",
    "            aa.append(re.search(\"(?P<url>https?://[^\\s]+\\.pdf)\", a['href']).group(\"url\"))"
   ]
  },
  {
   "cell_type": "markdown",
   "id": "b9949431",
   "metadata": {},
   "source": [
    "# Printing All Links"
   ]
  },
  {
   "cell_type": "code",
   "execution_count": null,
   "id": "9cc6544b",
   "metadata": {},
   "outputs": [],
   "source": [
    "aa"
   ]
  },
  {
   "cell_type": "markdown",
   "id": "c072dee0",
   "metadata": {},
   "source": [
    "# Accessing The Links on All The 10 Pages"
   ]
  },
  {
   "cell_type": "code",
   "execution_count": null,
   "id": "817f3fb4",
   "metadata": {
    "scrolled": true
   },
   "outputs": [],
   "source": [
    "for page in range(0,90,10):\n",
    "    if page==0:\n",
    "        url=\"https://www.google.com/search?q=data+science++resume+pakistan++filetype:pdf&rlz=1C1CHBD_en-GBPK1019PK1019&sxsrf=ALiCzsYgKPoMHWU6hy_sbZ_CPfW-NeANlg:1665142930950&ei=khBAY7HTOc-0kwX8lqyIAQ&start=0&sa=N&ved=2ahUKEwix5JjnhM76AhVP2qQKHXwLCxE4ChDy0wN6BAgCEAQ&biw=1366&bih=649&dpr=1\"\n",
    "        link(url)\n",
    "    if page>0:\n",
    "        url=\"https://www.google.com/search?q=data+science++resume+pakistan++filetype:pdf&rlz=1C1CHBD_en-GBPK1019PK1019&sxsrf=ALiCzsYf7wquRB7n-Z1O_91oQiQ2vlEaWA:1665139498066&ei=KgNAY-7EA-LgsAet6qrACg&start={}&sa=N&ved=2ahUKEwjugaKC-M36AhViMOwKHS21Cqg4ChDy0wN6BAgEEAQ&biw=1366&bih=649&dpr=1\".format(page)\n",
    "        link(url)\n",
    "        "
   ]
  },
  {
   "cell_type": "markdown",
   "id": "f6b3aa0f",
   "metadata": {},
   "source": [
    "# Removing Duplication From The Array"
   ]
  },
  {
   "cell_type": "code",
   "execution_count": null,
   "id": "37d16a1f",
   "metadata": {},
   "outputs": [],
   "source": [
    "pdfLinks2=[]\n",
    "for i in aa: \n",
    "    if i not in pdfLinks2: \n",
    "        pdfLinks2.append(i)"
   ]
  },
  {
   "cell_type": "markdown",
   "id": "2c8f348e",
   "metadata": {},
   "source": [
    "# Links After Removing The Duplcation "
   ]
  },
  {
   "cell_type": "code",
   "execution_count": null,
   "id": "e6b03f5f",
   "metadata": {
    "scrolled": true
   },
   "outputs": [],
   "source": [
    "pdfLinks2"
   ]
  },
  {
   "cell_type": "markdown",
   "id": "1e4e76d1",
   "metadata": {},
   "source": [
    "# Creating The Folder If not Exsist And Downloading The File From The Links To That Folder"
   ]
  },
  {
   "cell_type": "code",
   "execution_count": null,
   "id": "ab527372",
   "metadata": {
    "scrolled": true
   },
   "outputs": [],
   "source": [
    "newDir=\"C:\\\\Users\\\\sulta\\\\Data Science CV\\\\\" + 'Data Science ki CV'\n",
    "print(newDir)\n",
    "if not os.path.exists(newDir):\n",
    "    os.makedirs(newDir)\n",
    "options = webdriver.ChromeOptions()\n",
    "options.add_experimental_option('prefs', {\n",
    "\"download.default_directory\":\"C:\\\\Users\\\\sulta\\\\Data Science CV\\\\Data Science ki CV\", #Change default directory for downloads\n",
    "\"download.prompt_for_download\": False, #To auto download the file\n",
    "\"download.directory_upgrade\": True,\n",
    "\"plugins.always_open_pdf_externally\": True #It will not show PDF directly in chrome\n",
    "})\n",
    "driver = webdriver.Chrome(options=options)\n",
    "for z in range(len(pdfLinks2)):\n",
    "    try:\n",
    "        driver.get(pdfLinks2[z])\n",
    "        driver.set_page_load_timeout(10)\n",
    "    except:\n",
    "        continue"
   ]
  },
  {
   "cell_type": "markdown",
   "id": "960f379e",
   "metadata": {},
   "source": [
    "# Creating The Folder To The Google Drive "
   ]
  },
  {
   "cell_type": "code",
   "execution_count": null,
   "id": "7097ec7f",
   "metadata": {},
   "outputs": [],
   "source": [
    "folderName =input(str('Enter The Folder Name:\\t'))\n",
    "folder = drive.CreateFile({'title' : folderName, 'mimeType' : 'application/vnd.google-apps.folder'})\n",
    "print(\"Folder Created\")\n",
    "folder.Upload()"
   ]
  },
  {
   "cell_type": "markdown",
   "id": "89ae511e",
   "metadata": {},
   "source": [
    "# Uploading The Single File to The Google Drive Folder "
   ]
  },
  {
   "cell_type": "code",
   "execution_count": null,
   "id": "cec105a7",
   "metadata": {},
   "outputs": [],
   "source": [
    "from pydrive.auth import GoogleAuth\n",
    "from pydrive.drive import GoogleDrive\n",
    "\n",
    "\n",
    "gauth = GoogleAuth()\n",
    "gauth.LocalWebserverAuth()\n",
    "\n",
    "drive = GoogleDrive(gauth)\n",
    "\n",
    "file2 = drive.CreateFile({'parents': [{'id': '1p0rWzLAxpQQ6PAEM3mzHEWzGlR0vKnOz'}]})\n",
    "file2.SetContentFile('C:/Users/sulta/Data Science CV/Data Science ki CV/18611.pdf')\n",
    "file2.Upload()"
   ]
  },
  {
   "cell_type": "markdown",
   "id": "04b0b25e",
   "metadata": {},
   "source": [
    "# Uploading The Multiple Files To The Google Drive"
   ]
  },
  {
   "cell_type": "code",
   "execution_count": null,
   "id": "91bd9553",
   "metadata": {
    "scrolled": true
   },
   "outputs": [],
   "source": [
    "from pydrive.drive import GoogleDrive\n",
    "from pydrive.auth import GoogleAuth\n",
    "\n",
    "gauth=GoogleAuth()\n",
    "gauth.LocalWebserverAuth()\n",
    "drive = GoogleDrive(gauth)\n",
    "\n",
    "path=r\"C:\\\\Users\\\\sulta\\\\Data Science CV\\\\Data Science ki CV\"\n",
    "\n",
    "for x in os.listdir(path):\n",
    "    f=drive.CreateFile({\"Title\":x})\n",
    "    f.SetContentFile(os.path.join(path, x))\n",
    "    f.Upload()\n",
    "    f=None"
   ]
  },
  {
   "cell_type": "markdown",
   "id": "81622df8",
   "metadata": {},
   "source": [
    "# Uploding All File From The Folder To The Google Drive Folder"
   ]
  },
  {
   "cell_type": "code",
   "execution_count": null,
   "id": "d6c80669",
   "metadata": {},
   "outputs": [],
   "source": [
    "from pydrive.drive import GoogleDrive\n",
    "from pydrive.auth import GoogleAuth\n",
    "\n",
    "gauth=GoogleAuth()\n",
    "gauth.LocalWebserverAuth()\n",
    "drive = GoogleDrive(gauth)\n",
    "\n",
    "path=r\"C:\\\\Users\\\\sulta\\\\Data Science CV\\\\Data Science ki CV\"\n",
    "\n",
    "for x in os.listdir(path):\n",
    "    f=drive.CreateFile({'parents': [{'id': '1p0rWzLAxpQQ6PAEM3mzHEWzGlR0vKnOz'}]})\n",
    "    f.SetContentFile(os.path.join(path, x))\n",
    "    f.Upload()\n",
    "    f=None"
   ]
  },
  {
   "cell_type": "code",
   "execution_count": null,
   "id": "6c330007",
   "metadata": {},
   "outputs": [],
   "source": []
  }
 ],
 "metadata": {
  "kernelspec": {
   "display_name": "Python 3 (ipykernel)",
   "language": "python",
   "name": "python3"
  },
  "language_info": {
   "codemirror_mode": {
    "name": "ipython",
    "version": 3
   },
   "file_extension": ".py",
   "mimetype": "text/x-python",
   "name": "python",
   "nbconvert_exporter": "python",
   "pygments_lexer": "ipython3",
   "version": "3.9.12"
  }
 },
 "nbformat": 4,
 "nbformat_minor": 5
}
